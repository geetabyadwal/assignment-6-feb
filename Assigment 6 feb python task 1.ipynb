{
 "cells": [
  {
   "cell_type": "code",
   "execution_count": null,
   "id": "90d0c334-56d8-4e3b-998b-ec783d421fb9",
   "metadata": {},
   "outputs": [],
   "source": [
    "Ans = 1\n",
    "def product_of_numbers(lst):\n",
    "    # Flatten the list by iterating over each element and checking if it is iterable\n",
    "    flat_list = [x for sublist in lst for x in (sublist if isinstance(sublist, (list, tuple, set)) else [sublist])]\n",
    "    # Filter out non-numeric elements and calculate the product\n",
    "    product = 1\n",
    "    for num in flat_list:\n",
    "        if isinstance(num, (int, float)):\n",
    "            product *= num\n",
    "    return product\n",
    "\n",
    "\n",
    "list1 = [1,2,3,4, [44,55,66, True], False, (34,56,78,89,34), {1,2,3,3,2,1}, {1:34, \"key2\": [55, 67, 78, 89], 4: (45,22, 61, 34)}, [56, 'data science'], 'Machine Learning']\n",
    "result = product_of_numbers(list1)\n",
    "print(result)\n",
    "\n",
    "output = \n",
    "120062003200"
   ]
  },
  {
   "cell_type": "code",
   "execution_count": null,
   "id": "a1573151-ff5a-40d9-b970-e50feb8c6445",
   "metadata": {},
   "outputs": [],
   "source": [
    "Ans = 2\n",
    "def encrypt_message(msg):\n",
    "    encrypted_msg = ''\n",
    "    for char in msg:\n",
    "        # Check if the character is a letter\n",
    "        if char.isalpha():\n",
    "            # Convert the letter to lowercase and subtract the ASCII value of 'a'\n",
    "            # to get its position in the alphabet (0-25). Then subtract that value\n",
    "            # from 25 to get the position of the corresponding letter in the reversed\n",
    "            # alphabet (25-0).\n",
    "            encrypted_char = chr(25 - (ord(char.lower()) - ord('a')) + ord('a'))\n",
    "            # Add the encrypted character to the output string\n",
    "            encrypted_msg += encrypted_char\n",
    "        # Check if the character is a whitespace\n",
    "        elif char == ' ':\n",
    "            # Replace whitespace with a dollar sign\n",
    "            encrypted_msg += '$'\n",
    "        # For all other characters (punctuation marks, etc.), keep them unchanged\n",
    "        else:\n",
    "            encrypted_msg += char\n",
    "    return encrypted_msg\n",
    "\n",
    "input_sentence = \"I want to become a Data Scientist.\"\n",
    "encrypted_sentence = encrypt_message(input_sentence.lower())\n",
    "print(encrypted_sentence)\n",
    "\n",
    "\n",
    "tv hvmgizmt.\n",
    "which is the encrypted version of the input sentence."
   ]
  }
 ],
 "metadata": {
  "kernelspec": {
   "display_name": "Python 3 (ipykernel)",
   "language": "python",
   "name": "python3"
  },
  "language_info": {
   "codemirror_mode": {
    "name": "ipython",
    "version": 3
   },
   "file_extension": ".py",
   "mimetype": "text/x-python",
   "name": "python",
   "nbconvert_exporter": "python",
   "pygments_lexer": "ipython3",
   "version": "3.10.8"
  }
 },
 "nbformat": 4,
 "nbformat_minor": 5
}
